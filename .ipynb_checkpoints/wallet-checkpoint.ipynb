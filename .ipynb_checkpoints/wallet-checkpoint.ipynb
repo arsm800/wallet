{
 "cells": [
  {
   "cell_type": "code",
   "execution_count": 1,
   "metadata": {},
   "outputs": [],
   "source": [
    "# Imports\n",
    "import subprocess\n",
    "import json\n",
    "import os\n",
    "import dotenv\n",
    "\n",
    "from constants import *\n",
    "from bit import PrivateKeyTestnet\n",
    "from eth_account import Account\n",
    "from web3 import Web3"
   ]
  },
  {
   "cell_type": "code",
   "execution_count": 2,
   "metadata": {},
   "outputs": [],
   "source": [
    "dotenv.load_dotenv()\n",
    "\n",
    "w3=Web3(Web3.HTTPProvider(\"http://127.0.0.1:8545\"))"
   ]
  },
  {
   "cell_type": "code",
   "execution_count": 3,
   "metadata": {},
   "outputs": [],
   "source": [
    "# Mnemonic variable for cryptowallet private key stored in .env file\n",
    "mnemonic = os.getenv(\"mnemonic\", \"mnemonic\")\n",
    "\n",
    "# Establish variable for derive command \n",
    "command = './derive -g --mnemonic=mnemonmic --cols=path,address,privkey,pubkey --numderive=12 --format=json --coin'"
   ]
  },
  {
   "cell_type": "code",
   "execution_count": 4,
   "metadata": {},
   "outputs": [],
   "source": [
    "# Create function to derive wallets\n",
    "def derive_wallets():\n",
    "\n",
    "    p = subprocess.Popen(command, stdout=subprocess.PIPE, shell=True)\n",
    "    output, err = p.communicate()\n",
    "    p_status = p.wait()\n",
    "\n",
    "    keys = json.loads(output)\n",
    "    \n",
    "    # Create dictionary to assign 4 keys to each currency created in constants.py\n",
    "    coins = {\n",
    "             BTC: [keys[0], keys[1], keys[2], keys[3]],\n",
    "             ETH: [keys[4], keys[5], keys[6], keys[7]],\n",
    "             BTCTEST: [keys[8], keys[9], keys[10], keys[11]]\n",
    "            }\n",
    "    \n",
    "    print(coins)\n",
    "    print(coins[ETH][2]['privkey'])\n",
    "    \n",
    "    return(coins)\n",
    "    \n",
    "    # Test query\n",
    "    #print(coins[ETH][2]['privkey'])\n",
    "    "
   ]
  },
  {
   "cell_type": "code",
   "execution_count": 5,
   "metadata": {},
   "outputs": [],
   "source": [
    "# Create function to convert private key string to an account object usable in bit or web3\n",
    "def privkey_to_account(coin, privkey):\n",
    "    \n",
    "    if coin == ETH:\n",
    "        return Account.privateKeyToAccount(privkey)\n",
    "    \n",
    "    elif coin == BTCTEST:\n",
    "        return PrivateKeyTestnet(privkey)\n",
    "\n"
   ]
  },
  {
   "cell_type": "code",
   "execution_count": 6,
   "metadata": {},
   "outputs": [],
   "source": [
    "# Create function to create raw, unsigned transaction\n",
    "def create_tx(coin, account, to, amount):\n",
    "    \n",
    "    if coin == ETH:\n",
    "        \n",
    "        gasEstimate = w3.eth.estimateGas({\"from\": account.address, \n",
    "                                      \"to\": to, \n",
    "                                      \"value\": amount})\n",
    "        \n",
    "        return {\"from\": account.address, \n",
    "                \"to\": to, \n",
    "                \"value\": amount, \n",
    "                \"gasPrice\": w3.eth.gasPrice, \n",
    "                \"gas\": gasEstimate, \n",
    "                \"nonce\": w3.eth.getTransactionCount(account.address)}\n",
    "    \n",
    "    elif coin == BTCTEST:\n",
    "        PrivateKeyTestnet.prepare_transaction(account.address, [(to, amount, BTC)])"
   ]
  },
  {
   "cell_type": "code",
   "execution_count": null,
   "metadata": {},
   "outputs": [],
   "source": [
    "# Create function to sign transaction and send to designated network\n",
    "def send_tx(coin, account, to, amount):\n",
    "    pass"
   ]
  }
 ],
 "metadata": {
  "kernelspec": {
   "display_name": "Python 3",
   "language": "python",
   "name": "python3"
  },
  "language_info": {
   "codemirror_mode": {
    "name": "ipython",
    "version": 3
   },
   "file_extension": ".py",
   "mimetype": "text/x-python",
   "name": "python",
   "nbconvert_exporter": "python",
   "pygments_lexer": "ipython3",
   "version": "3.7.7"
  }
 },
 "nbformat": 4,
 "nbformat_minor": 4
}
