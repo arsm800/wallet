{
 "cells": [
  {
   "cell_type": "code",
   "execution_count": 1,
   "metadata": {},
   "outputs": [],
   "source": [
    "# Imports\n",
    "import subprocess\n",
    "import json\n",
    "import os\n",
    "import dotenv\n",
    "\n",
    "from constants import *\n",
    "from bit import PrivateKeyTestnet\n",
    "from eth_account import Account\n",
    "from web3 import Web3"
   ]
  },
  {
   "cell_type": "code",
   "execution_count": 2,
   "metadata": {},
   "outputs": [],
   "source": [
    "dotenv.load_dotenv()\n",
    "\n",
    "w3=Web3(Web3.HTTPProvider(\"http://127.0.0.1:8545\"))"
   ]
  },
  {
   "cell_type": "code",
   "execution_count": 3,
   "metadata": {},
   "outputs": [],
   "source": [
    "# Mnemonic variable for cryptowallet private key stored in .env file\n",
    "mnemonic = os.getenv(\"mnemonic\", \"mnemonic\")\n",
    "\n",
    "\n",
    "\n",
    "# Establish variable for derive command \n",
    "#command = f'./derive -g --mnemonic=mnemonmic --cols=path,address,privkey,pubkey --numderive=3 --format=json --coin={coin}'\n",
    "# Ended up hard coding 'command' variable as parameter in subprocess.Popen() below"
   ]
  },
  {
   "cell_type": "code",
   "execution_count": 4,
   "metadata": {},
   "outputs": [
    {
     "data": {
      "text/plain": [
       "{'eth': [{'path': \"m/44'/60'/0'/0/0\",\n",
       "   'address': '0xaea6b209847D73b276520f21594287Ab36eaed66',\n",
       "   'privkey': '0xc0f298143e4561e38c0a37211ec879564e33cb9e86e2524719643c2dc7f6c2f4',\n",
       "   'pubkey': '024c5d0c28cc3b582901957b3ead95ec8e2c008f350f5dee8721063503456c3480'},\n",
       "  {'path': \"m/44'/60'/0'/0/1\",\n",
       "   'address': '0xdABa555B2925D8EaB3fDc422750c6De47FEdee60',\n",
       "   'privkey': '0x59856c0125c7e5ecfa307b38859a935ad2840c3fa7c3642ab61187615e482d3d',\n",
       "   'pubkey': '02ceccb3e37aa87555178dfa93e3f07b18a3c291f3d67c4c8528ceadb6f4beb596'},\n",
       "  {'path': \"m/44'/60'/0'/0/2\",\n",
       "   'address': '0xB07014b452c15f3BF482A505911CCc1f45f2Fe33',\n",
       "   'privkey': '0x9701386cd6815833eb573e0f18afe2f9cdc028791113b1f2cc3edb7bedfabc09',\n",
       "   'pubkey': '0358912d3173212b709b64be6f23fc863473f74742cea136f5755b7eb9a6cecfa6'}],\n",
       " 'btc-test': [{'path': \"m/44'/1'/0'/0/0\",\n",
       "   'address': 'mpr71pzE5nz74p9UG3eCA5T72SNTpsx7Ry',\n",
       "   'privkey': 'cTfaomzWuQJTa7dNJ5cpfgRH6pEacsmEws2C1NDj6334kmMRVEQM',\n",
       "   'pubkey': '03916643da271d4758d40d780c640d833d63f4c1dbcf68bcaff114d6c902bf6173'},\n",
       "  {'path': \"m/44'/1'/0'/0/1\",\n",
       "   'address': 'mzDM1KZfpCtSYYsY4PWcspMhjdjNCJkZ1o',\n",
       "   'privkey': 'cSn1D7XronX9xP7CqsxchNmUgZzJCMm3vUGiHZGPtzeFuZ4GNRQX',\n",
       "   'pubkey': '024d7d14337583ff15595804343fd011dac9223003ae6f9a85e0d23195b926da10'},\n",
       "  {'path': \"m/44'/1'/0'/0/2\",\n",
       "   'address': 'mh9B8oCpHZ8BkfdC5TtQ3nmg245Mrggnrj',\n",
       "   'privkey': 'cVP5xAnJeKGWnkYUqfaojGL8hM47B4usKaojdKKuVDVJt4eA4om1',\n",
       "   'pubkey': '031f06f416d369c8d7416ecd47aac67e9356735cb61cb41231a8e5d24a8acf1c92'}]}"
      ]
     },
     "execution_count": 4,
     "metadata": {},
     "output_type": "execute_result"
    }
   ],
   "source": [
    "# Create function to derive wallets\n",
    "def derive_wallets(coin=BTC):\n",
    "\n",
    "    p = subprocess.Popen(f'./derive -g --mnemonic=mnemonmic --cols=path,address,privkey,pubkey --numderive=3 --format=json --coin={coin}', \n",
    "                         stdout=subprocess.PIPE, \n",
    "                         shell=True)\n",
    "    \n",
    "    output, err = p.communicate()\n",
    "    p_status = p.wait()\n",
    "\n",
    "    keys = json.loads(output)\n",
    "    \n",
    "    # Create dictionary to assign 4 keys to each currency created in constants.py\n",
    "    #coins = {\n",
    "    #         BTC: [keys[0], keys[1], keys[2], keys[3]],\n",
    "    #         ETH: [keys[4], keys[5], keys[6], keys[7]],\n",
    "    #         BTCTEST: [keys[8], keys[9], keys[10], keys[11]]\n",
    "    #        }\n",
    "    \n",
    "    #print(coins)\n",
    "    \n",
    "    \n",
    "    return(keys)\n",
    "    \n",
    "    # Test query\n",
    "    #print(coins[ETH][2]['privkey'])\n",
    "\n",
    "    \n",
    "#derive_wallets()\n",
    "#[0]['privkey']\n",
    "\n",
    "coins = {\n",
    "    ETH: derive_wallets(coin=ETH),\n",
    "    BTCTEST: derive_wallets(coin=BTCTEST)\n",
    "}\n",
    "\n",
    "# Confirm coin object\n",
    "coins\n"
   ]
  },
  {
   "cell_type": "code",
   "execution_count": 5,
   "metadata": {},
   "outputs": [
    {
     "data": {
      "text/plain": [
       "'cTfaomzWuQJTa7dNJ5cpfgRH6pEacsmEws2C1NDj6334kmMRVEQM'"
      ]
     },
     "execution_count": 5,
     "metadata": {},
     "output_type": "execute_result"
    }
   ],
   "source": [
    "# Establish private key variable\n",
    "#private_key = derive_wallets()[ETH][0]['privkey']\n",
    "#private_key = b'L2XCeB5qiTDu5BiCUNr3RX7khemTGqZmFEzW2rDUN8PTAf1kuuj5'\n",
    "#private_key = derive_wallets()[0]['privkey']\n",
    "\n",
    "# ETH key\n",
    "#private_key = coins[ETH][0]['privkey']\n",
    "\n",
    "# BTCTESTNET key\n",
    "private_key = coins[BTCTEST][0]['privkey']\n",
    "\n",
    "#Account.privateKeyToAccount(private_key)\n",
    "\n",
    "# Convert string variable (above) to hex\n",
    "#an_integer = int(private_key, 16)\n",
    "private_key"
   ]
  },
  {
   "cell_type": "code",
   "execution_count": 6,
   "metadata": {},
   "outputs": [
    {
     "name": "stdout",
     "output_type": "stream",
     "text": [
      "<PrivateKeyTestnet: mpr71pzE5nz74p9UG3eCA5T72SNTpsx7Ry>\n"
     ]
    }
   ],
   "source": [
    "# Create function to convert private key string to an account object usable in bit or web3\n",
    "def privkey_to_account(coin, privkey):\n",
    "    \n",
    "    if coin == ETH:\n",
    "        return Account.privateKeyToAccount(privkey)\n",
    "    \n",
    "    elif coin == BTCTEST:\n",
    "        return PrivateKeyTestnet(privkey)\n",
    "\n",
    "\n",
    "# Test function    \n",
    "#print(privkey_to_account(ETH, private_key))\n",
    "print(privkey_to_account(BTCTEST, private_key))\n",
    "\n",
    "a = b'asfd908432nklD'\n",
    "# binary string - hashes are usually in this form\n",
    "\n"
   ]
  },
  {
   "cell_type": "code",
   "execution_count": 7,
   "metadata": {},
   "outputs": [],
   "source": [
    "# Create function to create raw, unsigned transaction\n",
    "def create_tx(coin, account, to, amount):\n",
    "    \n",
    "    if coin == ETH:\n",
    "        \n",
    "        gasEstimate = w3.eth.estimateGas({\"from\": account.address, \n",
    "                                      \"to\": to, \n",
    "                                      \"value\": amount})\n",
    "        \n",
    "        return {\"from\": account.address, \n",
    "                \"to\": to, \n",
    "                \"value\": amount, \n",
    "                \"gasPrice\": w3.eth.gasPrice, \n",
    "                \"gas\": gasEstimate, \n",
    "                \"nonce\": w3.eth.getTransactionCount(account.address)}\n",
    "    \n",
    "    elif coin == BTCTEST:\n",
    "        \n",
    "        return PrivateKeyTestnet.prepare_transaction(account.address, [(to, amount, BTC)])"
   ]
  },
  {
   "cell_type": "code",
   "execution_count": 8,
   "metadata": {},
   "outputs": [],
   "source": [
    "# Create function to sign transaction and send to designated network\n",
    "def send_tx(coin, account, to, amount):\n",
    "    \n",
    "    raw_tx = create_tx(coin, account, to, amount)\n",
    "    \n",
    "    if coin == ETH:\n",
    "        \n",
    "        signed_tx = account.signed_transaction(rax_tx)\n",
    "        result = w3.eth.sendRawTransaction(signed_tx.rawTransaction)\n",
    "        return result\n",
    "        \n",
    "    \n",
    "    elif coin == BTCTEST:\n",
    "        \n",
    "        signed_tx = PrivateKeyTestnet.sign_transaction(raw_tx)\n",
    "        return NetworkAPI.broadcast_tx_testnet(signed_tx)\n",
    "        # Probably need a line to convert raw transaction to signed transaction"
   ]
  },
  {
   "cell_type": "code",
   "execution_count": 9,
   "metadata": {},
   "outputs": [
    {
     "data": {
      "text/plain": [
       "'cSn1D7XronX9xP7CqsxchNmUgZzJCMm3vUGiHZGPtzeFuZ4GNRQX'"
      ]
     },
     "execution_count": 9,
     "metadata": {},
     "output_type": "execute_result"
    }
   ],
   "source": [
    "# Create BTCTEST recipient address object\n",
    "recipient_address = privkey_to_account(BTCTEST, coins[BTCTEST][1]['privkey'])\n",
    "recipient_address = coins[BTCTEST][1]['privkey']\n",
    "recipient_address"
   ]
  },
  {
   "cell_type": "code",
   "execution_count": 11,
   "metadata": {},
   "outputs": [
    {
     "ename": "ValueError",
     "evalue": "b'\\xef' does not correspond to a mainnet nor testnet address.",
     "output_type": "error",
     "traceback": [
      "\u001b[0;31m---------------------------------------------------------------------------\u001b[0m",
      "\u001b[0;31mValueError\u001b[0m                                Traceback (most recent call last)",
      "\u001b[0;32m<ipython-input-11-13dea4955db3>\u001b[0m in \u001b[0;36m<module>\u001b[0;34m\u001b[0m\n\u001b[1;32m      1\u001b[0m \u001b[0;31m# Create and send ETH transaction\u001b[0m\u001b[0;34m\u001b[0m\u001b[0;34m\u001b[0m\u001b[0;34m\u001b[0m\u001b[0m\n\u001b[1;32m      2\u001b[0m \u001b[0;34m\u001b[0m\u001b[0m\n\u001b[0;32m----> 3\u001b[0;31m \u001b[0mcreate_tx\u001b[0m\u001b[0;34m(\u001b[0m\u001b[0mBTCTEST\u001b[0m\u001b[0;34m,\u001b[0m \u001b[0mprivkey_to_account\u001b[0m\u001b[0;34m(\u001b[0m\u001b[0mBTCTEST\u001b[0m\u001b[0;34m,\u001b[0m \u001b[0mprivate_key\u001b[0m\u001b[0;34m)\u001b[0m\u001b[0;34m,\u001b[0m \u001b[0mrecipient_address\u001b[0m\u001b[0;34m,\u001b[0m \u001b[0;36m0.0001\u001b[0m\u001b[0;34m)\u001b[0m\u001b[0;34m\u001b[0m\u001b[0;34m\u001b[0m\u001b[0m\n\u001b[0m",
      "\u001b[0;32m<ipython-input-7-4d75fc6580fc>\u001b[0m in \u001b[0;36mcreate_tx\u001b[0;34m(coin, account, to, amount)\u001b[0m\n\u001b[1;32m     17\u001b[0m     \u001b[0;32melif\u001b[0m \u001b[0mcoin\u001b[0m \u001b[0;34m==\u001b[0m \u001b[0mBTCTEST\u001b[0m\u001b[0;34m:\u001b[0m\u001b[0;34m\u001b[0m\u001b[0;34m\u001b[0m\u001b[0m\n\u001b[1;32m     18\u001b[0m \u001b[0;34m\u001b[0m\u001b[0m\n\u001b[0;32m---> 19\u001b[0;31m         \u001b[0;32mreturn\u001b[0m \u001b[0mPrivateKeyTestnet\u001b[0m\u001b[0;34m.\u001b[0m\u001b[0mprepare_transaction\u001b[0m\u001b[0;34m(\u001b[0m\u001b[0maccount\u001b[0m\u001b[0;34m.\u001b[0m\u001b[0maddress\u001b[0m\u001b[0;34m,\u001b[0m \u001b[0;34m[\u001b[0m\u001b[0;34m(\u001b[0m\u001b[0mto\u001b[0m\u001b[0;34m,\u001b[0m \u001b[0mamount\u001b[0m\u001b[0;34m,\u001b[0m \u001b[0mBTC\u001b[0m\u001b[0;34m)\u001b[0m\u001b[0;34m]\u001b[0m\u001b[0;34m)\u001b[0m\u001b[0;34m\u001b[0m\u001b[0;34m\u001b[0m\u001b[0m\n\u001b[0m",
      "\u001b[0;32m/opt/anaconda3/envs/ethereum/lib/python3.7/site-packages/bit/wallet.py\u001b[0m in \u001b[0;36mprepare_transaction\u001b[0;34m(cls, address, outputs, compressed, fee, absolute_fee, leftover, combine, message, unspents, message_is_hex, replace_by_fee)\u001b[0m\n\u001b[1;32m    850\u001b[0m             \u001b[0mversion\u001b[0m\u001b[0;34m=\u001b[0m\u001b[0;34m'test'\u001b[0m\u001b[0;34m,\u001b[0m\u001b[0;34m\u001b[0m\u001b[0;34m\u001b[0m\u001b[0m\n\u001b[1;32m    851\u001b[0m             \u001b[0mmessage_is_hex\u001b[0m\u001b[0;34m=\u001b[0m\u001b[0mmessage_is_hex\u001b[0m\u001b[0;34m,\u001b[0m\u001b[0;34m\u001b[0m\u001b[0;34m\u001b[0m\u001b[0m\n\u001b[0;32m--> 852\u001b[0;31m             \u001b[0mreplace_by_fee\u001b[0m\u001b[0;34m=\u001b[0m\u001b[0mreplace_by_fee\u001b[0m\u001b[0;34m\u001b[0m\u001b[0;34m\u001b[0m\u001b[0m\n\u001b[0m\u001b[1;32m    853\u001b[0m         )\n\u001b[1;32m    854\u001b[0m \u001b[0;34m\u001b[0m\u001b[0m\n",
      "\u001b[0;32m/opt/anaconda3/envs/ethereum/lib/python3.7/site-packages/bit/transaction.py\u001b[0m in \u001b[0;36msanitize_tx_data\u001b[0;34m(unspents, outputs, fee, leftover, combine, message, compressed, absolute_fee, min_change, version, message_is_hex, replace_by_fee)\u001b[0m\n\u001b[1;32m    419\u001b[0m     \u001b[0;31m# Include return address in output count.\u001b[0m\u001b[0;34m\u001b[0m\u001b[0;34m\u001b[0m\u001b[0;34m\u001b[0m\u001b[0m\n\u001b[1;32m    420\u001b[0m     \u001b[0;31m# Calculate output size as a list (including return address).\u001b[0m\u001b[0;34m\u001b[0m\u001b[0;34m\u001b[0m\u001b[0;34m\u001b[0m\u001b[0m\n\u001b[0;32m--> 421\u001b[0;31m     \u001b[0moutput_size\u001b[0m \u001b[0;34m=\u001b[0m \u001b[0;34m[\u001b[0m\u001b[0mlen\u001b[0m\u001b[0;34m(\u001b[0m\u001b[0maddress_to_scriptpubkey\u001b[0m\u001b[0;34m(\u001b[0m\u001b[0mo\u001b[0m\u001b[0;34m[\u001b[0m\u001b[0;36m0\u001b[0m\u001b[0;34m]\u001b[0m\u001b[0;34m)\u001b[0m\u001b[0;34m)\u001b[0m \u001b[0;34m+\u001b[0m \u001b[0;36m9\u001b[0m \u001b[0;32mfor\u001b[0m \u001b[0mo\u001b[0m \u001b[0;32min\u001b[0m \u001b[0moutputs\u001b[0m\u001b[0;34m]\u001b[0m\u001b[0;34m\u001b[0m\u001b[0;34m\u001b[0m\u001b[0m\n\u001b[0m\u001b[1;32m    422\u001b[0m     \u001b[0moutput_size\u001b[0m\u001b[0;34m.\u001b[0m\u001b[0mappend\u001b[0m\u001b[0;34m(\u001b[0m\u001b[0mlen\u001b[0m\u001b[0;34m(\u001b[0m\u001b[0mmessages\u001b[0m\u001b[0;34m)\u001b[0m \u001b[0;34m*\u001b[0m \u001b[0;34m(\u001b[0m\u001b[0mMESSAGE_LIMIT\u001b[0m \u001b[0;34m+\u001b[0m \u001b[0;36m9\u001b[0m\u001b[0;34m)\u001b[0m\u001b[0;34m)\u001b[0m\u001b[0;34m\u001b[0m\u001b[0;34m\u001b[0m\u001b[0m\n\u001b[1;32m    423\u001b[0m     \u001b[0moutput_size\u001b[0m\u001b[0;34m.\u001b[0m\u001b[0mappend\u001b[0m\u001b[0;34m(\u001b[0m\u001b[0mlen\u001b[0m\u001b[0;34m(\u001b[0m\u001b[0maddress_to_scriptpubkey\u001b[0m\u001b[0;34m(\u001b[0m\u001b[0mleftover\u001b[0m\u001b[0;34m)\u001b[0m\u001b[0;34m)\u001b[0m \u001b[0;34m+\u001b[0m \u001b[0;36m9\u001b[0m\u001b[0;34m)\u001b[0m\u001b[0;34m\u001b[0m\u001b[0;34m\u001b[0m\u001b[0m\n",
      "\u001b[0;32m/opt/anaconda3/envs/ethereum/lib/python3.7/site-packages/bit/transaction.py\u001b[0m in \u001b[0;36m<listcomp>\u001b[0;34m(.0)\u001b[0m\n\u001b[1;32m    419\u001b[0m     \u001b[0;31m# Include return address in output count.\u001b[0m\u001b[0;34m\u001b[0m\u001b[0;34m\u001b[0m\u001b[0;34m\u001b[0m\u001b[0m\n\u001b[1;32m    420\u001b[0m     \u001b[0;31m# Calculate output size as a list (including return address).\u001b[0m\u001b[0;34m\u001b[0m\u001b[0;34m\u001b[0m\u001b[0;34m\u001b[0m\u001b[0m\n\u001b[0;32m--> 421\u001b[0;31m     \u001b[0moutput_size\u001b[0m \u001b[0;34m=\u001b[0m \u001b[0;34m[\u001b[0m\u001b[0mlen\u001b[0m\u001b[0;34m(\u001b[0m\u001b[0maddress_to_scriptpubkey\u001b[0m\u001b[0;34m(\u001b[0m\u001b[0mo\u001b[0m\u001b[0;34m[\u001b[0m\u001b[0;36m0\u001b[0m\u001b[0;34m]\u001b[0m\u001b[0;34m)\u001b[0m\u001b[0;34m)\u001b[0m \u001b[0;34m+\u001b[0m \u001b[0;36m9\u001b[0m \u001b[0;32mfor\u001b[0m \u001b[0mo\u001b[0m \u001b[0;32min\u001b[0m \u001b[0moutputs\u001b[0m\u001b[0;34m]\u001b[0m\u001b[0;34m\u001b[0m\u001b[0;34m\u001b[0m\u001b[0m\n\u001b[0m\u001b[1;32m    422\u001b[0m     \u001b[0moutput_size\u001b[0m\u001b[0;34m.\u001b[0m\u001b[0mappend\u001b[0m\u001b[0;34m(\u001b[0m\u001b[0mlen\u001b[0m\u001b[0;34m(\u001b[0m\u001b[0mmessages\u001b[0m\u001b[0;34m)\u001b[0m \u001b[0;34m*\u001b[0m \u001b[0;34m(\u001b[0m\u001b[0mMESSAGE_LIMIT\u001b[0m \u001b[0;34m+\u001b[0m \u001b[0;36m9\u001b[0m\u001b[0;34m)\u001b[0m\u001b[0;34m)\u001b[0m\u001b[0;34m\u001b[0m\u001b[0;34m\u001b[0m\u001b[0m\n\u001b[1;32m    423\u001b[0m     \u001b[0moutput_size\u001b[0m\u001b[0;34m.\u001b[0m\u001b[0mappend\u001b[0m\u001b[0;34m(\u001b[0m\u001b[0mlen\u001b[0m\u001b[0;34m(\u001b[0m\u001b[0maddress_to_scriptpubkey\u001b[0m\u001b[0;34m(\u001b[0m\u001b[0mleftover\u001b[0m\u001b[0;34m)\u001b[0m\u001b[0;34m)\u001b[0m \u001b[0;34m+\u001b[0m \u001b[0;36m9\u001b[0m\u001b[0;34m)\u001b[0m\u001b[0;34m\u001b[0m\u001b[0;34m\u001b[0m\u001b[0m\n",
      "\u001b[0;32m/opt/anaconda3/envs/ethereum/lib/python3.7/site-packages/bit/transaction.py\u001b[0m in \u001b[0;36maddress_to_scriptpubkey\u001b[0;34m(address)\u001b[0m\n\u001b[1;32m    456\u001b[0m \u001b[0;32mdef\u001b[0m \u001b[0maddress_to_scriptpubkey\u001b[0m\u001b[0;34m(\u001b[0m\u001b[0maddress\u001b[0m\u001b[0;34m)\u001b[0m\u001b[0;34m:\u001b[0m\u001b[0;34m\u001b[0m\u001b[0;34m\u001b[0m\u001b[0m\n\u001b[1;32m    457\u001b[0m     \u001b[0;31m# Raise ValueError if we cannot identify the address.\u001b[0m\u001b[0;34m\u001b[0m\u001b[0;34m\u001b[0m\u001b[0;34m\u001b[0m\u001b[0m\n\u001b[0;32m--> 458\u001b[0;31m     \u001b[0mget_version\u001b[0m\u001b[0;34m(\u001b[0m\u001b[0maddress\u001b[0m\u001b[0;34m)\u001b[0m\u001b[0;34m\u001b[0m\u001b[0;34m\u001b[0m\u001b[0m\n\u001b[0m\u001b[1;32m    459\u001b[0m     \u001b[0;32mtry\u001b[0m\u001b[0;34m:\u001b[0m\u001b[0;34m\u001b[0m\u001b[0;34m\u001b[0m\u001b[0m\n\u001b[1;32m    460\u001b[0m         \u001b[0mversion\u001b[0m \u001b[0;34m=\u001b[0m \u001b[0mb58decode_check\u001b[0m\u001b[0;34m(\u001b[0m\u001b[0maddress\u001b[0m\u001b[0;34m)\u001b[0m\u001b[0;34m[\u001b[0m\u001b[0;34m:\u001b[0m\u001b[0;36m1\u001b[0m\u001b[0;34m]\u001b[0m\u001b[0;34m\u001b[0m\u001b[0;34m\u001b[0m\u001b[0m\n",
      "\u001b[0;32m/opt/anaconda3/envs/ethereum/lib/python3.7/site-packages/bit/format.py\u001b[0m in \u001b[0;36mget_version\u001b[0;34m(address)\u001b[0m\n\u001b[1;32m     52\u001b[0m         \u001b[0;32mreturn\u001b[0m \u001b[0;34m'test'\u001b[0m\u001b[0;34m\u001b[0m\u001b[0;34m\u001b[0m\u001b[0m\n\u001b[1;32m     53\u001b[0m     \u001b[0;32melse\u001b[0m\u001b[0;34m:\u001b[0m\u001b[0;34m\u001b[0m\u001b[0;34m\u001b[0m\u001b[0m\n\u001b[0;32m---> 54\u001b[0;31m         \u001b[0;32mraise\u001b[0m \u001b[0mValueError\u001b[0m\u001b[0;34m(\u001b[0m\u001b[0;34m'{} does not correspond to a mainnet nor testnet address.'\u001b[0m\u001b[0;34m.\u001b[0m\u001b[0mformat\u001b[0m\u001b[0;34m(\u001b[0m\u001b[0mversion\u001b[0m\u001b[0;34m)\u001b[0m\u001b[0;34m)\u001b[0m\u001b[0;34m\u001b[0m\u001b[0;34m\u001b[0m\u001b[0m\n\u001b[0m\u001b[1;32m     55\u001b[0m \u001b[0;34m\u001b[0m\u001b[0m\n\u001b[1;32m     56\u001b[0m \u001b[0;34m\u001b[0m\u001b[0m\n",
      "\u001b[0;31mValueError\u001b[0m: b'\\xef' does not correspond to a mainnet nor testnet address."
     ]
    }
   ],
   "source": [
    "# Create and send ETH transaction\n",
    "\n",
    "send_tx(BTCTEST, privkey_to_account(BTCTEST, private_key), recipient_address, 0.0001)"
   ]
  },
  {
   "cell_type": "code",
   "execution_count": null,
   "metadata": {},
   "outputs": [],
   "source": []
  }
 ],
 "metadata": {
  "kernelspec": {
   "display_name": "Python 3",
   "language": "python",
   "name": "python3"
  },
  "language_info": {
   "codemirror_mode": {
    "name": "ipython",
    "version": 3
   },
   "file_extension": ".py",
   "mimetype": "text/x-python",
   "name": "python",
   "nbconvert_exporter": "python",
   "pygments_lexer": "ipython3",
   "version": "3.7.7"
  }
 },
 "nbformat": 4,
 "nbformat_minor": 4
}
